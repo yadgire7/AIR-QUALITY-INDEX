{
  "cells": [
    {
      "cell_type": "markdown",
      "metadata": {
        "id": "view-in-github",
        "colab_type": "text"
      },
      "source": [
        "<a href=\"https://colab.research.google.com/github/yadgire7/AIR-QUALITY-INDEX/blob/master/AQI.ipynb\" target=\"_parent\"><img src=\"https://colab.research.google.com/assets/colab-badge.svg\" alt=\"Open In Colab\"/></a>"
      ]
    },
    {
      "cell_type": "markdown",
      "source": [
        "Approach:\n",
        "1. The API has city as key. It can also be accesses using idx. SO, I created a list of idx.\n",
        "\n",
        "2. There is no key like 'date' or 'day' using which I could fetch data for a particular day. So, I fetched data for all the cities for a particular day and then filtered out the data for a particular city.\n",
        "\n",
        "3. Fetching data for all the cities by idx(around 959) using a for loop would take a lot of time. So, I used pyspark to parallelize the process.\n",
        "\n",
        "4. Later during feature extraction, I realized that the the dat is inconsistent. Data for some attributes like location, air quality index and the parameters used to calculate air quality index are missing. So, I used the logic to join the data after fethching all the features on location.\n",
        "\n",
        "5. Creating a dataframe from the joined spark dataframe was taking a lot of time. So, I decided to complete the task using 100 idx in order to complete the task in time and at least be able to submit the assignment.\n"
      ],
      "metadata": {
        "id": "F38sPUgage_D"
      }
    },
    {
      "cell_type": "code",
      "execution_count": 41,
      "metadata": {
        "id": "o2Bp6NA4nWrP"
      },
      "outputs": [],
      "source": [
        "import sys\n",
        "import os\n",
        "import requests\n",
        "import json\n",
        "import numpy as np\n",
        "from pyspark import SparkContext\n",
        "from pyspark.sql import SparkSession\n",
        "from pyspark.sql.functions import col, isnull, sum, mean\n",
        "import pandas as pd\n",
        "from matplotlib import pyplot as plt\n",
        "import hopsworks\n",
        "import xgboost"
      ]
    },
    {
      "cell_type": "code",
      "execution_count": 2,
      "metadata": {
        "colab": {
          "base_uri": "https://localhost:8080/"
        },
        "id": "aZgzU-5dppuH",
        "outputId": "f21ed810-6f71-4f76-90a3-942c5eeea94b"
      },
      "outputs": [
        {
          "output_type": "stream",
          "name": "stdout",
          "text": [
            "Looking in indexes: https://pypi.org/simple, https://us-python.pkg.dev/colab-wheels/public/simple/\n",
            "Collecting pyspark\n",
            "  Downloading pyspark-3.4.0.tar.gz (310.8 MB)\n",
            "\u001b[2K     \u001b[90m━━━━━━━━━━━━━━━━━━━━━━━━━━━━━━━━━━━━━━━\u001b[0m \u001b[32m310.8/310.8 MB\u001b[0m \u001b[31m5.0 MB/s\u001b[0m eta \u001b[36m0:00:00\u001b[0m\n",
            "\u001b[?25h  Preparing metadata (setup.py) ... \u001b[?25l\u001b[?25hdone\n",
            "Requirement already satisfied: py4j==0.10.9.7 in /usr/local/lib/python3.10/dist-packages (from pyspark) (0.10.9.7)\n",
            "Building wheels for collected packages: pyspark\n",
            "  Building wheel for pyspark (setup.py) ... \u001b[?25l\u001b[?25hdone\n",
            "  Created wheel for pyspark: filename=pyspark-3.4.0-py2.py3-none-any.whl size=311317130 sha256=ab5fe30fe63712414e643e3ace845288332c18e96255cf4efc27f55d723e79cf\n",
            "  Stored in directory: /root/.cache/pip/wheels/7b/1b/4b/3363a1d04368e7ff0d408e57ff57966fcdf00583774e761327\n",
            "Successfully built pyspark\n",
            "Installing collected packages: pyspark\n",
            "Successfully installed pyspark-3.4.0\n"
          ]
        }
      ],
      "source": [
        "# pip install pyspark"
      ]
    },
    {
      "cell_type": "code",
      "execution_count": 5,
      "metadata": {
        "id": "1NC2DIUwnWrR"
      },
      "outputs": [],
      "source": [
        "os.environ['PYSPARK_PYTHON'] = sys.executable\n",
        "os.environ['PYSPARK_DRIVER_PYTHON'] = sys.executable\n",
        "sc = SparkContext.getOrCreate()\n",
        "spark = SparkSession.builder.config(\"spark.sql.shuffle.partitions\", \"400\").getOrCreate()\n",
        "sc.setLogLevel('WARN')\n",
        "\n"
      ]
    },
    {
      "cell_type": "code",
      "execution_count": 6,
      "metadata": {
        "id": "peQEYtWEnWrR"
      },
      "outputs": [],
      "source": [
        "def fetch_raw_data(id):\n",
        "    '''\n",
        "    params:\n",
        "        id_list: list of ids for different cities\n",
        "        api: \"https://api.waqi.info/feed/\"\n",
        "        token = b5ffb81511c8f973b9db70d54e76893cc87d2b95\n",
        "    '''\n",
        "    api = \"https://api.waqi.info/feed/\"\n",
        "    token = \"token=b5ffb81511c8f973b9db70d54e76893cc87d2b95\"\n",
        "    url = api + \"@\" + str(id) + \"/?\" + token\n",
        "    instance = requests.get(url)\n",
        "    if instance.status_code == 200:\n",
        "       return instance.text\n"
      ]
    },
    {
      "cell_type": "code",
      "execution_count": 7,
      "metadata": {
        "id": "khiVBTndnWrS"
      },
      "outputs": [],
      "source": [
        "arr = [i for i in range(100)]\n",
        "id_list = sc.parallelize(arr)\n"
      ]
    },
    {
      "cell_type": "code",
      "execution_count": 8,
      "metadata": {
        "id": "KHaMSBvJnWrS"
      },
      "outputs": [],
      "source": [
        "raw_data = id_list.map(fetch_raw_data).map(lambda x: json.loads(x))\n"
      ]
    },
    {
      "cell_type": "code",
      "execution_count": 9,
      "metadata": {
        "colab": {
          "base_uri": "https://localhost:8080/"
        },
        "id": "MU6sacBHnWrS",
        "outputId": "52434f2c-abed-442a-a1a7-81109ced0f66"
      },
      "outputs": [
        {
          "output_type": "execute_result",
          "data": {
            "text/plain": [
              "{'status': 'ok',\n",
              " 'data': {'aqi': 57,\n",
              "  'idx': 0,\n",
              "  'attributions': [{'url': 'http://www.airqualityontario.com/',\n",
              "    'name': 'Air Quality Ontario - the Ontario Ministry of the Environment and Climate Change',\n",
              "    'logo': 'Ontario-Ministry-of-the-Environment-and-Climate-Change.png'},\n",
              "   {'url': 'https://waqi.info/', 'name': 'World Air Quality Index Project'}],\n",
              "  'city': {'geo': [44.382361, -79.702306],\n",
              "   'name': 'Barrie, Ontario, Canada',\n",
              "   'url': '',\n",
              "   'location': ''},\n",
              "  'dominentpol': 'pm25',\n",
              "  'iaqi': {'h': {'v': 1},\n",
              "   'no2': {'v': 1.3},\n",
              "   'o3': {'v': 32},\n",
              "   'p': {'v': 1001.5},\n",
              "   'pm25': {'v': 57},\n",
              "   't': {'v': 14.2}},\n",
              "  'time': {'s': '2023-06-12 01:00:00',\n",
              "   'tz': '-05:00',\n",
              "   'v': 1686531600,\n",
              "   'iso': '2023-06-12T01:00:00-05:00'},\n",
              "  'forecast': {'daily': {'o3': [{'avg': 17,\n",
              "      'day': '2023-06-10',\n",
              "      'max': 22,\n",
              "      'min': 13},\n",
              "     {'avg': 16, 'day': '2023-06-11', 'max': 27, 'min': 8},\n",
              "     {'avg': 10, 'day': '2023-06-12', 'max': 18, 'min': 5},\n",
              "     {'avg': 8, 'day': '2023-06-13', 'max': 15, 'min': 2},\n",
              "     {'avg': 12, 'day': '2023-06-14', 'max': 19, 'min': 4},\n",
              "     {'avg': 10, 'day': '2023-06-15', 'max': 19, 'min': 3}],\n",
              "    'pm10': [{'avg': 8, 'day': '2023-06-10', 'max': 13, 'min': 5},\n",
              "     {'avg': 9, 'day': '2023-06-11', 'max': 17, 'min': 7},\n",
              "     {'avg': 5, 'day': '2023-06-12', 'max': 10, 'min': 1},\n",
              "     {'avg': 9, 'day': '2023-06-13', 'max': 16, 'min': 4},\n",
              "     {'avg': 5, 'day': '2023-06-14', 'max': 7, 'min': 3},\n",
              "     {'avg': 9, 'day': '2023-06-15', 'max': 15, 'min': 6}],\n",
              "    'pm25': [{'avg': 34, 'day': '2023-06-10', 'max': 55, 'min': 19},\n",
              "     {'avg': 38, 'day': '2023-06-11', 'max': 62, 'min': 28},\n",
              "     {'avg': 20, 'day': '2023-06-12', 'max': 43, 'min': 3},\n",
              "     {'avg': 31, 'day': '2023-06-13', 'max': 53, 'min': 16},\n",
              "     {'avg': 19, 'day': '2023-06-14', 'max': 26, 'min': 11},\n",
              "     {'avg': 35, 'day': '2023-06-15', 'max': 56, 'min': 23}]}},\n",
              "  'debug': {'sync': '2023-06-12T14:55:19+09:00'}}}"
            ]
          },
          "metadata": {},
          "execution_count": 9
        }
      ],
      "source": [
        "raw_data.first()"
      ]
    },
    {
      "cell_type": "code",
      "execution_count": 10,
      "metadata": {
        "id": "eD_wYMepnWrS"
      },
      "outputs": [],
      "source": [
        "'''\n",
        "Cleaning the raw_data to get only the 'data' dictionary for further feature extraction.\n",
        "'''\n",
        "cleaned_data = raw_data.map(lambda x: x['data']).filter(lambda x: x is not None and len(x.keys()) > 2)\n"
      ]
    },
    {
      "cell_type": "code",
      "execution_count": 10,
      "metadata": {
        "colab": {
          "base_uri": "https://localhost:8080/"
        },
        "id": "tWttkZa7nWrS",
        "outputId": "bf47b8b4-5be1-4f98-b75a-95898963dc0a"
      },
      "outputs": [
        {
          "output_type": "execute_result",
          "data": {
            "text/plain": [
              "{'aqi': 53,\n",
              " 'idx': 0,\n",
              " 'attributions': [{'url': 'http://www.airqualityontario.com/',\n",
              "   'name': 'Air Quality Ontario - the Ontario Ministry of the Environment and Climate Change',\n",
              "   'logo': 'Ontario-Ministry-of-the-Environment-and-Climate-Change.png'},\n",
              "  {'url': 'https://waqi.info/', 'name': 'World Air Quality Index Project'}],\n",
              " 'city': {'geo': [44.382361, -79.702306],\n",
              "  'name': 'Barrie, Ontario, Canada',\n",
              "  'url': '',\n",
              "  'location': ''},\n",
              " 'dominentpol': 'pm25',\n",
              " 'iaqi': {'h': {'v': 1},\n",
              "  'no2': {'v': 3.6},\n",
              "  'o3': {'v': 3.2},\n",
              "  'p': {'v': 1003.5},\n",
              "  'pm25': {'v': 53},\n",
              "  't': {'v': 13.8}},\n",
              " 'time': {'s': '2023-06-11 23:00:00',\n",
              "  'tz': '-05:00',\n",
              "  'v': 1686524400,\n",
              "  'iso': '2023-06-11T23:00:00-05:00'},\n",
              " 'forecast': {'daily': {'o3': [{'avg': 11,\n",
              "     'day': '2023-06-09',\n",
              "     'max': 16,\n",
              "     'min': 8},\n",
              "    {'avg': 17, 'day': '2023-06-10', 'max': 22, 'min': 13},\n",
              "    {'avg': 16, 'day': '2023-06-11', 'max': 27, 'min': 8},\n",
              "    {'avg': 10, 'day': '2023-06-12', 'max': 18, 'min': 5},\n",
              "    {'avg': 8, 'day': '2023-06-13', 'max': 15, 'min': 2},\n",
              "    {'avg': 12, 'day': '2023-06-14', 'max': 19, 'min': 4},\n",
              "    {'avg': 10, 'day': '2023-06-15', 'max': 19, 'min': 3}],\n",
              "   'pm10': [{'avg': 8, 'day': '2023-06-09', 'max': 16, 'min': 3},\n",
              "    {'avg': 8, 'day': '2023-06-10', 'max': 13, 'min': 5},\n",
              "    {'avg': 9, 'day': '2023-06-11', 'max': 17, 'min': 7},\n",
              "    {'avg': 5, 'day': '2023-06-12', 'max': 10, 'min': 1},\n",
              "    {'avg': 9, 'day': '2023-06-13', 'max': 16, 'min': 4},\n",
              "    {'avg': 5, 'day': '2023-06-14', 'max': 7, 'min': 3},\n",
              "    {'avg': 9, 'day': '2023-06-15', 'max': 15, 'min': 6}],\n",
              "   'pm25': [{'avg': 30, 'day': '2023-06-09', 'max': 59, 'min': 10},\n",
              "    {'avg': 34, 'day': '2023-06-10', 'max': 55, 'min': 19},\n",
              "    {'avg': 38, 'day': '2023-06-11', 'max': 62, 'min': 28},\n",
              "    {'avg': 20, 'day': '2023-06-12', 'max': 43, 'min': 3},\n",
              "    {'avg': 31, 'day': '2023-06-13', 'max': 53, 'min': 16},\n",
              "    {'avg': 19, 'day': '2023-06-14', 'max': 26, 'min': 11},\n",
              "    {'avg': 35, 'day': '2023-06-15', 'max': 56, 'min': 23}]}},\n",
              " 'debug': {'sync': '2023-06-12T13:24:12+09:00'}}"
            ]
          },
          "metadata": {},
          "execution_count": 10
        }
      ],
      "source": [
        "cleaned_data.first()"
      ]
    },
    {
      "cell_type": "markdown",
      "metadata": {
        "id": "QZvUoV-anWrT"
      },
      "source": [
        "### function definitions to extract features from the (cleaned) raw_data"
      ]
    },
    {
      "cell_type": "code",
      "execution_count": 11,
      "metadata": {
        "id": "NvtYungQnWrU"
      },
      "outputs": [],
      "source": [
        "def get_attr_value(x, a, k):\n",
        "    if a in x.keys():\n",
        "        if k in x[a].keys():\n",
        "            return int(x[a][k]['v'])\n",
        "    return 0\n"
      ]
    },
    {
      "cell_type": "code",
      "execution_count": 12,
      "metadata": {
        "id": "xo2bLESwnWrU"
      },
      "outputs": [],
      "source": [
        "def get_location(raw_data_rdd):\n",
        "    location = raw_data_rdd.map(lambda x: (\n",
        "        x['idx'], x['city']['geo'])).filter(lambda x: x[1] is not None)\\\n",
        "        .map(lambda x: (x[0], x[1][0], x[1][1]))\n",
        "    return location"
      ]
    },
    {
      "cell_type": "code",
      "execution_count": 13,
      "metadata": {
        "id": "nrp1XFx-nWrU"
      },
      "outputs": [],
      "source": [
        "def get_aqi(rdd):\n",
        "    aqi = rdd.map(lambda x: (x['idx'], x['aqi']))\n",
        "    return aqi"
      ]
    },
    {
      "cell_type": "code",
      "execution_count": 14,
      "metadata": {
        "id": "pe9CgVLUnWrU"
      },
      "outputs": [],
      "source": [
        "def create_df(rdd, name):\n",
        "    df = spark.createDataFrame(rdd, ['idx', name])\n",
        "    return df"
      ]
    },
    {
      "cell_type": "code",
      "execution_count": 15,
      "metadata": {
        "id": "HImu_0m9nWrV"
      },
      "outputs": [],
      "source": [
        "def create_pandas_df(df_list):\n",
        "    new_df_list = []\n",
        "    for df in df_list:\n",
        "        df = df.toPandas()\n",
        "        new_df_list.append(df)\n",
        "    return new_df_list\n"
      ]
    },
    {
      "cell_type": "code",
      "execution_count": 16,
      "metadata": {
        "id": "fkaYMa3MnWrV"
      },
      "outputs": [],
      "source": [
        "def filter_forecast(arr_of_dict):\n",
        "    temp = [(d['day'], d['avg']) for d in arr_of_dict]\n",
        "    for pair in temp:\n",
        "        if pair[0] == \"2023-06-10\":\n",
        "            return pair"
      ]
    },
    {
      "cell_type": "code",
      "execution_count": 17,
      "metadata": {
        "id": "o4P4QgMEnWrV"
      },
      "outputs": [],
      "source": [
        "def filter_rdd(rdd, ids):\n",
        "    rdd = rdd.filter(lambda x: x[0] in ids)\n",
        "    return rdd"
      ]
    },
    {
      "cell_type": "code",
      "execution_count": 18,
      "metadata": {
        "id": "uHn26tGFnWrV"
      },
      "outputs": [],
      "source": [
        "location = get_location(cleaned_data)"
      ]
    },
    {
      "cell_type": "code",
      "execution_count": 19,
      "metadata": {
        "id": "qDnBzmtvnWrV"
      },
      "outputs": [],
      "source": [
        "aqi = get_aqi(cleaned_data)\n"
      ]
    },
    {
      "cell_type": "code",
      "source": [
        "main_ft = cleaned_data.map(lambda x: (x['idx'], get_attr_value(x,'iaqi', 'p'),get_attr_value(x,'iaqi', 'h'),\\\n",
        "                                      get_attr_value(x,'iaqi', 't'),get_attr_value(x,'iaqi', 'pm25'),\\\n",
        "                                      get_attr_value(x,'iaqi', 'pm10'), get_attr_value(x,'iaqi', 'o3'),\\\n",
        "                                      get_attr_value(x,'iaqi', 'no2'), get_attr_value(x,'iaqi', 'so2')))"
      ],
      "metadata": {
        "id": "UYqntnHTk4Gh"
      },
      "execution_count": 20,
      "outputs": []
    },
    {
      "cell_type": "code",
      "source": [
        "main_ft_df = spark.createDataFrame(main_ft,['idx', 'p','h','t','pm25','pm10','o3','no2','so2'])"
      ],
      "metadata": {
        "id": "oCMEt34llh2x"
      },
      "execution_count": 21,
      "outputs": []
    },
    {
      "cell_type": "code",
      "execution_count": 22,
      "metadata": {
        "id": "_XkrQPmQnWrV"
      },
      "outputs": [],
      "source": [
        "aqi_df = spark.createDataFrame(aqi, ['idx', 'aqi'])"
      ]
    },
    {
      "cell_type": "code",
      "execution_count": 23,
      "metadata": {
        "id": "TymdVovZnWrV"
      },
      "outputs": [],
      "source": [
        "location_df = spark.createDataFrame(location, ['idx', 'latitude', 'longitude'])"
      ]
    },
    {
      "cell_type": "code",
      "execution_count": 24,
      "metadata": {
        "id": "fuVT2RCynWrW"
      },
      "outputs": [],
      "source": [
        "joined_df1= location_df.join(main_ft_df, on='idx', how= 'inner')"
      ]
    },
    {
      "cell_type": "code",
      "source": [
        "joined_df2 = joined_df1.join(aqi_df, on='idx',how='inner')"
      ],
      "metadata": {
        "id": "4TRy5dnm7IqC"
      },
      "execution_count": 25,
      "outputs": []
    },
    {
      "cell_type": "code",
      "execution_count": 26,
      "metadata": {
        "id": "Lc0cupR_nWrX"
      },
      "outputs": [],
      "source": [
        "main_df = joined_df2.toPandas()"
      ]
    },
    {
      "cell_type": "code",
      "execution_count": 27,
      "metadata": {
        "id": "Auxll7V5nWrX",
        "colab": {
          "base_uri": "https://localhost:8080/",
          "height": 206
        },
        "outputId": "e6546825-29ef-4f1f-9281-2a0d7aa9fa39"
      },
      "outputs": [
        {
          "output_type": "execute_result",
          "data": {
            "text/plain": [
              "   idx   latitude  longitude     p   h   t  pm25  pm10  o3  no2  so2   aqi\n",
              "0   29  46.533194 -84.309917  1014  68  -2     5     0  22    1    0  22.0\n",
              "1   19  46.323194 -79.449278   962  98  15    59     0   2    2    0  59.0\n",
              "2   22  45.382528 -75.714194  1031  81 -17    13     0   7    1    0   7.0\n",
              "3    7  45.224278 -78.932944  1008  97  15    57     0   9    0    0  57.0\n",
              "4   34  43.662972 -79.388111  1006  89  15    46     0  36    7    0  46.0"
            ],
            "text/html": [
              "\n",
              "  <div id=\"df-313c9c90-0e33-4d9a-9d39-80fa81b50177\">\n",
              "    <div class=\"colab-df-container\">\n",
              "      <div>\n",
              "<style scoped>\n",
              "    .dataframe tbody tr th:only-of-type {\n",
              "        vertical-align: middle;\n",
              "    }\n",
              "\n",
              "    .dataframe tbody tr th {\n",
              "        vertical-align: top;\n",
              "    }\n",
              "\n",
              "    .dataframe thead th {\n",
              "        text-align: right;\n",
              "    }\n",
              "</style>\n",
              "<table border=\"1\" class=\"dataframe\">\n",
              "  <thead>\n",
              "    <tr style=\"text-align: right;\">\n",
              "      <th></th>\n",
              "      <th>idx</th>\n",
              "      <th>latitude</th>\n",
              "      <th>longitude</th>\n",
              "      <th>p</th>\n",
              "      <th>h</th>\n",
              "      <th>t</th>\n",
              "      <th>pm25</th>\n",
              "      <th>pm10</th>\n",
              "      <th>o3</th>\n",
              "      <th>no2</th>\n",
              "      <th>so2</th>\n",
              "      <th>aqi</th>\n",
              "    </tr>\n",
              "  </thead>\n",
              "  <tbody>\n",
              "    <tr>\n",
              "      <th>0</th>\n",
              "      <td>29</td>\n",
              "      <td>46.533194</td>\n",
              "      <td>-84.309917</td>\n",
              "      <td>1014</td>\n",
              "      <td>68</td>\n",
              "      <td>-2</td>\n",
              "      <td>5</td>\n",
              "      <td>0</td>\n",
              "      <td>22</td>\n",
              "      <td>1</td>\n",
              "      <td>0</td>\n",
              "      <td>22.0</td>\n",
              "    </tr>\n",
              "    <tr>\n",
              "      <th>1</th>\n",
              "      <td>19</td>\n",
              "      <td>46.323194</td>\n",
              "      <td>-79.449278</td>\n",
              "      <td>962</td>\n",
              "      <td>98</td>\n",
              "      <td>15</td>\n",
              "      <td>59</td>\n",
              "      <td>0</td>\n",
              "      <td>2</td>\n",
              "      <td>2</td>\n",
              "      <td>0</td>\n",
              "      <td>59.0</td>\n",
              "    </tr>\n",
              "    <tr>\n",
              "      <th>2</th>\n",
              "      <td>22</td>\n",
              "      <td>45.382528</td>\n",
              "      <td>-75.714194</td>\n",
              "      <td>1031</td>\n",
              "      <td>81</td>\n",
              "      <td>-17</td>\n",
              "      <td>13</td>\n",
              "      <td>0</td>\n",
              "      <td>7</td>\n",
              "      <td>1</td>\n",
              "      <td>0</td>\n",
              "      <td>7.0</td>\n",
              "    </tr>\n",
              "    <tr>\n",
              "      <th>3</th>\n",
              "      <td>7</td>\n",
              "      <td>45.224278</td>\n",
              "      <td>-78.932944</td>\n",
              "      <td>1008</td>\n",
              "      <td>97</td>\n",
              "      <td>15</td>\n",
              "      <td>57</td>\n",
              "      <td>0</td>\n",
              "      <td>9</td>\n",
              "      <td>0</td>\n",
              "      <td>0</td>\n",
              "      <td>57.0</td>\n",
              "    </tr>\n",
              "    <tr>\n",
              "      <th>4</th>\n",
              "      <td>34</td>\n",
              "      <td>43.662972</td>\n",
              "      <td>-79.388111</td>\n",
              "      <td>1006</td>\n",
              "      <td>89</td>\n",
              "      <td>15</td>\n",
              "      <td>46</td>\n",
              "      <td>0</td>\n",
              "      <td>36</td>\n",
              "      <td>7</td>\n",
              "      <td>0</td>\n",
              "      <td>46.0</td>\n",
              "    </tr>\n",
              "  </tbody>\n",
              "</table>\n",
              "</div>\n",
              "      <button class=\"colab-df-convert\" onclick=\"convertToInteractive('df-313c9c90-0e33-4d9a-9d39-80fa81b50177')\"\n",
              "              title=\"Convert this dataframe to an interactive table.\"\n",
              "              style=\"display:none;\">\n",
              "        \n",
              "  <svg xmlns=\"http://www.w3.org/2000/svg\" height=\"24px\"viewBox=\"0 0 24 24\"\n",
              "       width=\"24px\">\n",
              "    <path d=\"M0 0h24v24H0V0z\" fill=\"none\"/>\n",
              "    <path d=\"M18.56 5.44l.94 2.06.94-2.06 2.06-.94-2.06-.94-.94-2.06-.94 2.06-2.06.94zm-11 1L8.5 8.5l.94-2.06 2.06-.94-2.06-.94L8.5 2.5l-.94 2.06-2.06.94zm10 10l.94 2.06.94-2.06 2.06-.94-2.06-.94-.94-2.06-.94 2.06-2.06.94z\"/><path d=\"M17.41 7.96l-1.37-1.37c-.4-.4-.92-.59-1.43-.59-.52 0-1.04.2-1.43.59L10.3 9.45l-7.72 7.72c-.78.78-.78 2.05 0 2.83L4 21.41c.39.39.9.59 1.41.59.51 0 1.02-.2 1.41-.59l7.78-7.78 2.81-2.81c.8-.78.8-2.07 0-2.86zM5.41 20L4 18.59l7.72-7.72 1.47 1.35L5.41 20z\"/>\n",
              "  </svg>\n",
              "      </button>\n",
              "      \n",
              "  <style>\n",
              "    .colab-df-container {\n",
              "      display:flex;\n",
              "      flex-wrap:wrap;\n",
              "      gap: 12px;\n",
              "    }\n",
              "\n",
              "    .colab-df-convert {\n",
              "      background-color: #E8F0FE;\n",
              "      border: none;\n",
              "      border-radius: 50%;\n",
              "      cursor: pointer;\n",
              "      display: none;\n",
              "      fill: #1967D2;\n",
              "      height: 32px;\n",
              "      padding: 0 0 0 0;\n",
              "      width: 32px;\n",
              "    }\n",
              "\n",
              "    .colab-df-convert:hover {\n",
              "      background-color: #E2EBFA;\n",
              "      box-shadow: 0px 1px 2px rgba(60, 64, 67, 0.3), 0px 1px 3px 1px rgba(60, 64, 67, 0.15);\n",
              "      fill: #174EA6;\n",
              "    }\n",
              "\n",
              "    [theme=dark] .colab-df-convert {\n",
              "      background-color: #3B4455;\n",
              "      fill: #D2E3FC;\n",
              "    }\n",
              "\n",
              "    [theme=dark] .colab-df-convert:hover {\n",
              "      background-color: #434B5C;\n",
              "      box-shadow: 0px 1px 3px 1px rgba(0, 0, 0, 0.15);\n",
              "      filter: drop-shadow(0px 1px 2px rgba(0, 0, 0, 0.3));\n",
              "      fill: #FFFFFF;\n",
              "    }\n",
              "  </style>\n",
              "\n",
              "      <script>\n",
              "        const buttonEl =\n",
              "          document.querySelector('#df-313c9c90-0e33-4d9a-9d39-80fa81b50177 button.colab-df-convert');\n",
              "        buttonEl.style.display =\n",
              "          google.colab.kernel.accessAllowed ? 'block' : 'none';\n",
              "\n",
              "        async function convertToInteractive(key) {\n",
              "          const element = document.querySelector('#df-313c9c90-0e33-4d9a-9d39-80fa81b50177');\n",
              "          const dataTable =\n",
              "            await google.colab.kernel.invokeFunction('convertToInteractive',\n",
              "                                                     [key], {});\n",
              "          if (!dataTable) return;\n",
              "\n",
              "          const docLinkHtml = 'Like what you see? Visit the ' +\n",
              "            '<a target=\"_blank\" href=https://colab.research.google.com/notebooks/data_table.ipynb>data table notebook</a>'\n",
              "            + ' to learn more about interactive tables.';\n",
              "          element.innerHTML = '';\n",
              "          dataTable['output_type'] = 'display_data';\n",
              "          await google.colab.output.renderOutput(dataTable, element);\n",
              "          const docLink = document.createElement('div');\n",
              "          docLink.innerHTML = docLinkHtml;\n",
              "          element.appendChild(docLink);\n",
              "        }\n",
              "      </script>\n",
              "    </div>\n",
              "  </div>\n",
              "  "
            ]
          },
          "metadata": {},
          "execution_count": 27
        }
      ],
      "source": [
        "main_df.head()"
      ]
    },
    {
      "cell_type": "code",
      "source": [
        "main_df.isna().sum()"
      ],
      "metadata": {
        "colab": {
          "base_uri": "https://localhost:8080/"
        },
        "id": "KUUCMLhc-ZyL",
        "outputId": "3373471d-a4c7-4987-b961-014b33a9abcf"
      },
      "execution_count": 28,
      "outputs": [
        {
          "output_type": "execute_result",
          "data": {
            "text/plain": [
              "idx          0\n",
              "latitude     0\n",
              "longitude    0\n",
              "p            0\n",
              "h            0\n",
              "t            0\n",
              "pm25         0\n",
              "pm10         0\n",
              "o3           0\n",
              "no2          0\n",
              "so2          0\n",
              "aqi          4\n",
              "dtype: int64"
            ]
          },
          "metadata": {},
          "execution_count": 28
        }
      ]
    },
    {
      "cell_type": "code",
      "execution_count": 29,
      "metadata": {
        "id": "QIMuISGfnWrX"
      },
      "outputs": [],
      "source": [
        "# imputing the nan in aqi with the mean of the aqi\n",
        "main_df['aqi'] = main_df['aqi'].fillna(main_df['aqi'].mean())"
      ]
    },
    {
      "cell_type": "code",
      "source": [
        "main_df.isna().sum()"
      ],
      "metadata": {
        "colab": {
          "base_uri": "https://localhost:8080/"
        },
        "id": "2LhmZkDV-gFx",
        "outputId": "f2d98d56-c92f-419a-d181-3d551604be6f"
      },
      "execution_count": 30,
      "outputs": [
        {
          "output_type": "execute_result",
          "data": {
            "text/plain": [
              "idx          0\n",
              "latitude     0\n",
              "longitude    0\n",
              "p            0\n",
              "h            0\n",
              "t            0\n",
              "pm25         0\n",
              "pm10         0\n",
              "o3           0\n",
              "no2          0\n",
              "so2          0\n",
              "aqi          0\n",
              "dtype: int64"
            ]
          },
          "metadata": {},
          "execution_count": 30
        }
      ]
    },
    {
      "cell_type": "code",
      "execution_count": 31,
      "metadata": {
        "colab": {
          "base_uri": "https://localhost:8080/"
        },
        "id": "hCxdkPQOnWrY",
        "outputId": "f1b5bddf-509e-4176-f99a-216e8e3f58bd"
      },
      "outputs": [
        {
          "output_type": "stream",
          "name": "stdout",
          "text": [
            "  Preparing metadata (setup.py) ... \u001b[?25l\u001b[?25hdone\n",
            "\u001b[2K     \u001b[90m━━━━━━━━━━━━━━━━━━━━━━━━━━━━━━━━━━━━━━━\u001b[0m \u001b[32m120.7/120.7 kB\u001b[0m \u001b[31m5.9 MB/s\u001b[0m eta \u001b[36m0:00:00\u001b[0m\n",
            "\u001b[?25h  Preparing metadata (setup.py) ... \u001b[?25l\u001b[?25hdone\n",
            "\u001b[2K     \u001b[90m━━━━━━━━━━━━━━━━━━━━━━━━━━━━━━━━━━━━━━━━\u001b[0m \u001b[32m50.9/50.9 kB\u001b[0m \u001b[31m6.4 MB/s\u001b[0m eta \u001b[36m0:00:00\u001b[0m\n",
            "\u001b[?25h  Preparing metadata (setup.py) ... \u001b[?25l\u001b[?25hdone\n",
            "\u001b[2K     \u001b[90m━━━━━━━━━━━━━━━━━━━━━━━━━━━━━━━━━━━━━━\u001b[0m \u001b[32m135.6/135.6 kB\u001b[0m \u001b[31m17.0 MB/s\u001b[0m eta \u001b[36m0:00:00\u001b[0m\n",
            "\u001b[2K     \u001b[90m━━━━━━━━━━━━━━━━━━━━━━━━━━━━━━━━━━━━━━━━\u001b[0m \u001b[32m45.3/45.3 kB\u001b[0m \u001b[31m6.0 MB/s\u001b[0m eta \u001b[36m0:00:00\u001b[0m\n",
            "\u001b[2K     \u001b[90m━━━━━━━━━━━━━━━━━━━━━━━━━━━━━━━━━━━━━━━━\u001b[0m \u001b[32m68.2/68.2 kB\u001b[0m \u001b[31m9.1 MB/s\u001b[0m eta \u001b[36m0:00:00\u001b[0m\n",
            "\u001b[?25h  Preparing metadata (setup.py) ... \u001b[?25l\u001b[?25hdone\n",
            "\u001b[2K     \u001b[90m━━━━━━━━━━━━━━━━━━━━━━━━━━━━━━━━━━━━━━━━\u001b[0m \u001b[32m43.7/43.7 kB\u001b[0m \u001b[31m5.4 MB/s\u001b[0m eta \u001b[36m0:00:00\u001b[0m\n",
            "\u001b[2K     \u001b[90m━━━━━━━━━━━━━━━━━━━━━━━━━━━━━━━━━━━━━━━━\u001b[0m \u001b[32m4.9/4.9 MB\u001b[0m \u001b[31m75.8 MB/s\u001b[0m eta \u001b[36m0:00:00\u001b[0m\n",
            "\u001b[2K     \u001b[90m━━━━━━━━━━━━━━━━━━━━━━━━━━━━━━━━━━━━━━━━\u001b[0m \u001b[32m42.9/42.9 kB\u001b[0m \u001b[31m5.3 MB/s\u001b[0m eta \u001b[36m0:00:00\u001b[0m\n",
            "\u001b[?25h  Preparing metadata (setup.py) ... \u001b[?25l\u001b[?25hdone\n",
            "\u001b[2K     \u001b[90m━━━━━━━━━━━━━━━━━━━━━━━━━━━━━━━━━━━━━━━━\u001b[0m \u001b[32m3.1/3.1 MB\u001b[0m \u001b[31m78.5 MB/s\u001b[0m eta \u001b[36m0:00:00\u001b[0m\n",
            "\u001b[2K     \u001b[90m━━━━━━━━━━━━━━━━━━━━━━━━━━━━━━━━━━━━━━━━\u001b[0m \u001b[32m2.5/2.5 MB\u001b[0m \u001b[31m82.4 MB/s\u001b[0m eta \u001b[36m0:00:00\u001b[0m\n",
            "\u001b[2K     \u001b[90m━━━━━━━━━━━━━━━━━━━━━━━━━━━━━━━━━━━━━━\u001b[0m \u001b[32m133.6/133.6 kB\u001b[0m \u001b[31m13.1 MB/s\u001b[0m eta \u001b[36m0:00:00\u001b[0m\n",
            "\u001b[2K     \u001b[90m━━━━━━━━━━━━━━━━━━━━━━━━━━━━━━━━━━━━━━━━\u001b[0m \u001b[32m67.8/67.8 kB\u001b[0m \u001b[31m5.6 MB/s\u001b[0m eta \u001b[36m0:00:00\u001b[0m\n",
            "\u001b[2K     \u001b[90m━━━━━━━━━━━━━━━━━━━━━━━━━━━━━━━━━━━━━━\u001b[0m \u001b[32m109.1/109.1 kB\u001b[0m \u001b[31m13.8 MB/s\u001b[0m eta \u001b[36m0:00:00\u001b[0m\n",
            "\u001b[2K     \u001b[90m━━━━━━━━━━━━━━━━━━━━━━━━━━━━━━━━━━━━━━━━\u001b[0m \u001b[32m10.9/10.9 MB\u001b[0m \u001b[31m68.9 MB/s\u001b[0m eta \u001b[36m0:00:00\u001b[0m\n",
            "\u001b[2K     \u001b[90m━━━━━━━━━━━━━━━━━━━━━━━━━━━━━━━━━━━━━━━━\u001b[0m \u001b[32m79.8/79.8 kB\u001b[0m \u001b[31m11.1 MB/s\u001b[0m eta \u001b[36m0:00:00\u001b[0m\n",
            "\u001b[2K     \u001b[90m━━━━━━━━━━━━━━━━━━━━━━━━━━━━━━━━━━━━━━━━\u001b[0m \u001b[32m57.3/57.3 kB\u001b[0m \u001b[31m7.8 MB/s\u001b[0m eta \u001b[36m0:00:00\u001b[0m\n",
            "\u001b[2K     \u001b[90m━━━━━━━━━━━━━━━━━━━━━━━━━━━━━━━━━━━━━━━━\u001b[0m \u001b[32m2.1/2.1 MB\u001b[0m \u001b[31m97.9 MB/s\u001b[0m eta \u001b[36m0:00:00\u001b[0m\n",
            "\u001b[?25h  Preparing metadata (setup.py) ... \u001b[?25l\u001b[?25hdone\n",
            "\u001b[2K     \u001b[90m━━━━━━━━━━━━━━━━━━━━━━━━━━━━━━━━━━━━━━━━\u001b[0m \u001b[32m59.6/59.6 kB\u001b[0m \u001b[31m8.0 MB/s\u001b[0m eta \u001b[36m0:00:00\u001b[0m\n",
            "\u001b[?25h  Preparing metadata (setup.py) ... \u001b[?25l\u001b[?25hdone\n",
            "\u001b[2K     \u001b[90m━━━━━━━━━━━━━━━━━━━━━━━━━━━━━━━━━━━━━━━━\u001b[0m \u001b[32m1.6/1.6 MB\u001b[0m \u001b[31m83.8 MB/s\u001b[0m eta \u001b[36m0:00:00\u001b[0m\n",
            "\u001b[?25h  Building wheel for hopsworks (setup.py) ... \u001b[?25l\u001b[?25hdone\n",
            "  Building wheel for avro (setup.py) ... \u001b[?25l\u001b[?25hdone\n",
            "  Building wheel for hsml (setup.py) ... \u001b[?25l\u001b[?25hdone\n",
            "  Building wheel for hsfs (setup.py) ... \u001b[?25l\u001b[?25hdone\n",
            "  Building wheel for twofish (setup.py) ... \u001b[?25l\u001b[?25hdone\n",
            "  Building wheel for thrift (setup.py) ... \u001b[?25l\u001b[?25hdone\n",
            "  Building wheel for pyhopshive (setup.py) ... \u001b[?25l\u001b[?25hdone\n",
            "\u001b[31mERROR: pip's dependency resolver does not currently take into account all the packages that are installed. This behaviour is the source of the following dependency conflicts.\n",
            "werkzeug 2.3.0 requires MarkupSafe>=2.1.1, but you have markupsafe 2.0.1 which is incompatible.\u001b[0m\u001b[31m\n",
            "\u001b[0m"
          ]
        }
      ],
      "source": [
        "# !pip install -U hopsworks --quiet"
      ]
    },
    {
      "cell_type": "markdown",
      "source": [
        "Creating feature group"
      ],
      "metadata": {
        "id": "fWjxyZrj_KHz"
      }
    },
    {
      "cell_type": "code",
      "execution_count": 34,
      "metadata": {
        "id": "6jJM2lYinWrY",
        "colab": {
          "base_uri": "https://localhost:8080/"
        },
        "outputId": "7418dabd-685e-4e59-e0bd-e019a8ca93de"
      },
      "outputs": [
        {
          "output_type": "stream",
          "name": "stdout",
          "text": [
            "Connected. Call `.close()` to terminate connection gracefully.\n",
            "Connection closed.\n",
            "Copy your Api Key (first register/login): https://c.app.hopsworks.ai/account/api/generated\n",
            "\n",
            "Paste it here: ··········\n",
            "Connected. Call `.close()` to terminate connection gracefully.\n",
            "\n",
            "Logged in to project, explore it here https://c.app.hopsworks.ai:443/p/56479\n",
            "Connected. Call `.close()` to terminate connection gracefully.\n"
          ]
        }
      ],
      "source": [
        "project = hopsworks.login()\n",
        "fs = project.get_feature_store()"
      ]
    },
    {
      "cell_type": "code",
      "source": [
        "aqi_fg = fs.get_or_create_feature_group(\n",
        "    name=\"air_quality_index\",\n",
        "    version=\"1\",\n",
        "    description=\"Air Quality Index\",\n",
        "    primary_key=['idx']\n",
        ")"
      ],
      "metadata": {
        "id": "N55MViwR_M3Q"
      },
      "execution_count": 35,
      "outputs": []
    },
    {
      "cell_type": "code",
      "source": [
        "aqi_fg.insert(main_df)"
      ],
      "metadata": {
        "colab": {
          "base_uri": "https://localhost:8080/",
          "height": 156,
          "referenced_widgets": [
            "f048abb4f64547319160f7878e290ea7",
            "fb7a226be8df42cb80e5de18e7b56bc7",
            "1ad344d43b2f41c282d5a7f72df6fd06",
            "55ca7171a9e74d8d9483c5547d3683d9",
            "a84b229f6c12479c897bfb475047c97c",
            "d235c0f348f34e40a080771d7fc9692b",
            "ea57c6d3517543b799eebef7b0a78520",
            "78af033af84243838219e36b2774fb40",
            "56f27bfd9f3d4313a2b14a7360eafce0",
            "653f22bf04fd4ffe9af47d7324284deb",
            "03e6c676d88c43c3af8f26e59791b401"
          ]
        },
        "id": "bn-7v_WoPIuJ",
        "outputId": "462d4a25-0269-43c9-ff47-7266930410d6"
      },
      "execution_count": 36,
      "outputs": [
        {
          "output_type": "stream",
          "name": "stdout",
          "text": [
            "Feature Group created successfully, explore it at \n",
            "https://c.app.hopsworks.ai:443/p/56479/fs/55375/fg/60782\n"
          ]
        },
        {
          "output_type": "display_data",
          "data": {
            "text/plain": [
              "Uploading Dataframe: 0.00% |          | Rows 0/94 | Elapsed Time: 00:00 | Remaining Time: ?"
            ],
            "application/vnd.jupyter.widget-view+json": {
              "version_major": 2,
              "version_minor": 0,
              "model_id": "f048abb4f64547319160f7878e290ea7"
            }
          },
          "metadata": {}
        },
        {
          "output_type": "stream",
          "name": "stdout",
          "text": [
            "Launching offline feature group backfill job...\n",
            "Backfill Job started successfully, you can follow the progress at \n",
            "https://c.app.hopsworks.ai/p/56479/jobs/named/air_quality_index_1_offline_fg_backfill/executions\n"
          ]
        },
        {
          "output_type": "execute_result",
          "data": {
            "text/plain": [
              "(<hsfs.core.job.Job at 0x7fd06866f7f0>, None)"
            ]
          },
          "metadata": {},
          "execution_count": 36
        }
      ]
    },
    {
      "cell_type": "code",
      "source": [
        "feature_descriptions = [\n",
        "    {\"name\": \"idx\", \"description\": \"City ID\"},\n",
        "    {\"name\": \"latitude\", \"description\": \"Latitude of location\"},\n",
        "    {\"name\": \"longitude\", \"description\": \"Longitude of location\"},\n",
        "    {\"name\": \"p\", \"description\": \"pressure\"},\n",
        "    {\"name\": \"h\", \"description\": \"humidity\"},\n",
        "    {\"name\": \"pm25\", \"description\": \"pm2.5\"},\n",
        "    {\"name\": \"pm10\", \"description\": \"pm1.0\"},\n",
        "    {\"name\": \"o3\", \"description\": \"ozone\"},\n",
        "    {\"name\": \"no2\", \"description\": \"nitrogen dioxide\"},\n",
        "    {\"name\": \"so2\", \"description\": \"sulphur dioxide\"},\n",
        "    {\"name\": \"aqi\", \"description\": \"air quality index\"}\n",
        "    \n",
        "]\n",
        "# idx\tlatitude\tlongitude\tp\th\tt\tpm25\tpm10\to3\tno2\tso2\taqi\n",
        "for desc in feature_descriptions: \n",
        "    aqi_fg.update_feature_description(desc[\"name\"], desc[\"description\"])"
      ],
      "metadata": {
        "id": "Zf9kfJoSQdT4"
      },
      "execution_count": 37,
      "outputs": []
    },
    {
      "cell_type": "code",
      "source": [
        "ds_query = aqi_fg.select([\"idx\",\t\"latitude\",\t\"longitude\",\t\"p\",\t\"h\",\t\"t\",    \t\"pm25\",\t\"pm10\",\t\"o3\",\t\"no2\",\t\"so2\",\t\"aqi\"])\n",
        "ds_query.show(5)"
      ],
      "metadata": {
        "colab": {
          "base_uri": "https://localhost:8080/",
          "height": 261
        },
        "id": "RIDxlUULY1XT",
        "outputId": "233245dd-901b-4722-cf00-cc9ac641c8d7"
      },
      "execution_count": 38,
      "outputs": [
        {
          "output_type": "stream",
          "name": "stderr",
          "text": [
            "DeprecationWarning: ssl.PROTOCOL_TLS is deprecated\n",
            "UserWarning: pandas only supports SQLAlchemy connectable (engine/connection) or database string URI or sqlite3 DBAPI2 connection. Other DBAPI2 objects are not tested. Please consider using SQLAlchemy.\n"
          ]
        },
        {
          "output_type": "execute_result",
          "data": {
            "text/plain": [
              "   idx   latitude   longitude     p   h   t  pm25  pm10  o3  no2  so2   aqi\n",
              "0   26  44.301917  -78.346222  1007  93  15    72     0  34    1    0  72.0\n",
              "1    1  44.150528  -77.395500  1012  84  16    87     0  24    3    0  87.0\n",
              "2   21  43.945944  -78.894917  1005  82  16    53     0  43    1    0  53.0\n",
              "3   53  37.482930 -122.203480  1014   0  10     9     0  20    8    0   9.0\n",
              "4   49  37.765950 -122.399020  1014  87  58     9     0  20    4    0   9.0"
            ],
            "text/html": [
              "\n",
              "  <div id=\"df-c1e3a1c9-8b58-450f-97d1-2429aea8b6a2\">\n",
              "    <div class=\"colab-df-container\">\n",
              "      <div>\n",
              "<style scoped>\n",
              "    .dataframe tbody tr th:only-of-type {\n",
              "        vertical-align: middle;\n",
              "    }\n",
              "\n",
              "    .dataframe tbody tr th {\n",
              "        vertical-align: top;\n",
              "    }\n",
              "\n",
              "    .dataframe thead th {\n",
              "        text-align: right;\n",
              "    }\n",
              "</style>\n",
              "<table border=\"1\" class=\"dataframe\">\n",
              "  <thead>\n",
              "    <tr style=\"text-align: right;\">\n",
              "      <th></th>\n",
              "      <th>idx</th>\n",
              "      <th>latitude</th>\n",
              "      <th>longitude</th>\n",
              "      <th>p</th>\n",
              "      <th>h</th>\n",
              "      <th>t</th>\n",
              "      <th>pm25</th>\n",
              "      <th>pm10</th>\n",
              "      <th>o3</th>\n",
              "      <th>no2</th>\n",
              "      <th>so2</th>\n",
              "      <th>aqi</th>\n",
              "    </tr>\n",
              "  </thead>\n",
              "  <tbody>\n",
              "    <tr>\n",
              "      <th>0</th>\n",
              "      <td>26</td>\n",
              "      <td>44.301917</td>\n",
              "      <td>-78.346222</td>\n",
              "      <td>1007</td>\n",
              "      <td>93</td>\n",
              "      <td>15</td>\n",
              "      <td>72</td>\n",
              "      <td>0</td>\n",
              "      <td>34</td>\n",
              "      <td>1</td>\n",
              "      <td>0</td>\n",
              "      <td>72.0</td>\n",
              "    </tr>\n",
              "    <tr>\n",
              "      <th>1</th>\n",
              "      <td>1</td>\n",
              "      <td>44.150528</td>\n",
              "      <td>-77.395500</td>\n",
              "      <td>1012</td>\n",
              "      <td>84</td>\n",
              "      <td>16</td>\n",
              "      <td>87</td>\n",
              "      <td>0</td>\n",
              "      <td>24</td>\n",
              "      <td>3</td>\n",
              "      <td>0</td>\n",
              "      <td>87.0</td>\n",
              "    </tr>\n",
              "    <tr>\n",
              "      <th>2</th>\n",
              "      <td>21</td>\n",
              "      <td>43.945944</td>\n",
              "      <td>-78.894917</td>\n",
              "      <td>1005</td>\n",
              "      <td>82</td>\n",
              "      <td>16</td>\n",
              "      <td>53</td>\n",
              "      <td>0</td>\n",
              "      <td>43</td>\n",
              "      <td>1</td>\n",
              "      <td>0</td>\n",
              "      <td>53.0</td>\n",
              "    </tr>\n",
              "    <tr>\n",
              "      <th>3</th>\n",
              "      <td>53</td>\n",
              "      <td>37.482930</td>\n",
              "      <td>-122.203480</td>\n",
              "      <td>1014</td>\n",
              "      <td>0</td>\n",
              "      <td>10</td>\n",
              "      <td>9</td>\n",
              "      <td>0</td>\n",
              "      <td>20</td>\n",
              "      <td>8</td>\n",
              "      <td>0</td>\n",
              "      <td>9.0</td>\n",
              "    </tr>\n",
              "    <tr>\n",
              "      <th>4</th>\n",
              "      <td>49</td>\n",
              "      <td>37.765950</td>\n",
              "      <td>-122.399020</td>\n",
              "      <td>1014</td>\n",
              "      <td>87</td>\n",
              "      <td>58</td>\n",
              "      <td>9</td>\n",
              "      <td>0</td>\n",
              "      <td>20</td>\n",
              "      <td>4</td>\n",
              "      <td>0</td>\n",
              "      <td>9.0</td>\n",
              "    </tr>\n",
              "  </tbody>\n",
              "</table>\n",
              "</div>\n",
              "      <button class=\"colab-df-convert\" onclick=\"convertToInteractive('df-c1e3a1c9-8b58-450f-97d1-2429aea8b6a2')\"\n",
              "              title=\"Convert this dataframe to an interactive table.\"\n",
              "              style=\"display:none;\">\n",
              "        \n",
              "  <svg xmlns=\"http://www.w3.org/2000/svg\" height=\"24px\"viewBox=\"0 0 24 24\"\n",
              "       width=\"24px\">\n",
              "    <path d=\"M0 0h24v24H0V0z\" fill=\"none\"/>\n",
              "    <path d=\"M18.56 5.44l.94 2.06.94-2.06 2.06-.94-2.06-.94-.94-2.06-.94 2.06-2.06.94zm-11 1L8.5 8.5l.94-2.06 2.06-.94-2.06-.94L8.5 2.5l-.94 2.06-2.06.94zm10 10l.94 2.06.94-2.06 2.06-.94-2.06-.94-.94-2.06-.94 2.06-2.06.94z\"/><path d=\"M17.41 7.96l-1.37-1.37c-.4-.4-.92-.59-1.43-.59-.52 0-1.04.2-1.43.59L10.3 9.45l-7.72 7.72c-.78.78-.78 2.05 0 2.83L4 21.41c.39.39.9.59 1.41.59.51 0 1.02-.2 1.41-.59l7.78-7.78 2.81-2.81c.8-.78.8-2.07 0-2.86zM5.41 20L4 18.59l7.72-7.72 1.47 1.35L5.41 20z\"/>\n",
              "  </svg>\n",
              "      </button>\n",
              "      \n",
              "  <style>\n",
              "    .colab-df-container {\n",
              "      display:flex;\n",
              "      flex-wrap:wrap;\n",
              "      gap: 12px;\n",
              "    }\n",
              "\n",
              "    .colab-df-convert {\n",
              "      background-color: #E8F0FE;\n",
              "      border: none;\n",
              "      border-radius: 50%;\n",
              "      cursor: pointer;\n",
              "      display: none;\n",
              "      fill: #1967D2;\n",
              "      height: 32px;\n",
              "      padding: 0 0 0 0;\n",
              "      width: 32px;\n",
              "    }\n",
              "\n",
              "    .colab-df-convert:hover {\n",
              "      background-color: #E2EBFA;\n",
              "      box-shadow: 0px 1px 2px rgba(60, 64, 67, 0.3), 0px 1px 3px 1px rgba(60, 64, 67, 0.15);\n",
              "      fill: #174EA6;\n",
              "    }\n",
              "\n",
              "    [theme=dark] .colab-df-convert {\n",
              "      background-color: #3B4455;\n",
              "      fill: #D2E3FC;\n",
              "    }\n",
              "\n",
              "    [theme=dark] .colab-df-convert:hover {\n",
              "      background-color: #434B5C;\n",
              "      box-shadow: 0px 1px 3px 1px rgba(0, 0, 0, 0.15);\n",
              "      filter: drop-shadow(0px 1px 2px rgba(0, 0, 0, 0.3));\n",
              "      fill: #FFFFFF;\n",
              "    }\n",
              "  </style>\n",
              "\n",
              "      <script>\n",
              "        const buttonEl =\n",
              "          document.querySelector('#df-c1e3a1c9-8b58-450f-97d1-2429aea8b6a2 button.colab-df-convert');\n",
              "        buttonEl.style.display =\n",
              "          google.colab.kernel.accessAllowed ? 'block' : 'none';\n",
              "\n",
              "        async function convertToInteractive(key) {\n",
              "          const element = document.querySelector('#df-c1e3a1c9-8b58-450f-97d1-2429aea8b6a2');\n",
              "          const dataTable =\n",
              "            await google.colab.kernel.invokeFunction('convertToInteractive',\n",
              "                                                     [key], {});\n",
              "          if (!dataTable) return;\n",
              "\n",
              "          const docLinkHtml = 'Like what you see? Visit the ' +\n",
              "            '<a target=\"_blank\" href=https://colab.research.google.com/notebooks/data_table.ipynb>data table notebook</a>'\n",
              "            + ' to learn more about interactive tables.';\n",
              "          element.innerHTML = '';\n",
              "          dataTable['output_type'] = 'display_data';\n",
              "          await google.colab.output.renderOutput(dataTable, element);\n",
              "          const docLink = document.createElement('div');\n",
              "          docLink.innerHTML = docLinkHtml;\n",
              "          element.appendChild(docLink);\n",
              "        }\n",
              "      </script>\n",
              "    </div>\n",
              "  </div>\n",
              "  "
            ]
          },
          "metadata": {},
          "execution_count": 38
        }
      ]
    },
    {
      "cell_type": "code",
      "source": [
        "try:\n",
        "    feature_view = fs.get_feature_view('aqi_view', version=1)\n",
        "except:\n",
        "    feature_view = fs.create_feature_view(\n",
        "        name='aqi',\n",
        "        query=ds_query,\n",
        "        version=1,\n",
        "        labels=[\"aqi\"]\n",
        "    )"
      ],
      "metadata": {
        "colab": {
          "base_uri": "https://localhost:8080/"
        },
        "id": "ftHbpFU-YFMN",
        "outputId": "83f3fb4e-e134-49c7-9a0e-b1342dab4947"
      },
      "execution_count": 39,
      "outputs": [
        {
          "output_type": "stream",
          "name": "stdout",
          "text": [
            "Feature view created successfully, explore it at \n",
            "https://c.app.hopsworks.ai:443/p/56479/fs/55375/fv/aqi/version/1\n"
          ]
        }
      ]
    },
    {
      "cell_type": "code",
      "source": [
        "aiq_version, aiq_job = feature_view.create_train_validation_test_split(\n",
        "    description = 'training set',\n",
        "    data_format = 'csv',\n",
        "    validation_size = 0.1,\n",
        "    test_size = 0.1,\n",
        "    write_options = {'wait_for_job': True},\n",
        "    coalesce = True,\n",
        ")"
      ],
      "metadata": {
        "colab": {
          "base_uri": "https://localhost:8080/"
        },
        "id": "oEMpmvbDahv6",
        "outputId": "1687a112-b0fe-40a5-acb8-e7580abd43c2"
      },
      "execution_count": 40,
      "outputs": [
        {
          "output_type": "stream",
          "name": "stdout",
          "text": [
            "Training dataset job started successfully, you can follow the progress at \n",
            "https://c.app.hopsworks.ai/p/56479/jobs/named/aqi_1_1_create_fv_td_12062023070514/executions\n"
          ]
        },
        {
          "output_type": "stream",
          "name": "stderr",
          "text": [
            "VersionWarning: Incremented version to `1`.\n"
          ]
        }
      ]
    },
    {
      "cell_type": "code",
      "source": [
        "X_train, X_val, X_test, y_train, y_val, y_test = feature_view.get_train_validation_test_split(1)"
      ],
      "metadata": {
        "id": "OYS3cnbYbElb"
      },
      "execution_count": 42,
      "outputs": []
    },
    {
      "cell_type": "code",
      "source": [
        "# train the model\n",
        "mod = xgboost.XGBRegressor()\n",
        "mod = mod.fit(X_train, y_train)"
      ],
      "metadata": {
        "id": "Yz93bP_kdfk8"
      },
      "execution_count": 43,
      "outputs": []
    },
    {
      "cell_type": "code",
      "source": [
        "pred = mod.predict(X_val)"
      ],
      "metadata": {
        "id": "2yYvYWuPeLxg"
      },
      "execution_count": 45,
      "outputs": []
    },
    {
      "cell_type": "code",
      "source": [],
      "metadata": {
        "id": "GwpB4DQNeU9o"
      },
      "execution_count": null,
      "outputs": []
    }
  ],
  "metadata": {
    "accelerator": "GPU",
    "colab": {
      "provenance": [],
      "include_colab_link": true
    },
    "kernelspec": {
      "display_name": "Python 3",
      "name": "python3"
    },
    "language_info": {
      "codemirror_mode": {
        "name": "ipython",
        "version": 3
      },
      "file_extension": ".py",
      "mimetype": "text/x-python",
      "name": "python",
      "nbconvert_exporter": "python",
      "pygments_lexer": "ipython3",
      "version": "3.6.8"
    },
    "widgets": {
      "application/vnd.jupyter.widget-state+json": {
        "f048abb4f64547319160f7878e290ea7": {
          "model_module": "@jupyter-widgets/controls",
          "model_name": "HBoxModel",
          "model_module_version": "1.5.0",
          "state": {
            "_dom_classes": [],
            "_model_module": "@jupyter-widgets/controls",
            "_model_module_version": "1.5.0",
            "_model_name": "HBoxModel",
            "_view_count": null,
            "_view_module": "@jupyter-widgets/controls",
            "_view_module_version": "1.5.0",
            "_view_name": "HBoxView",
            "box_style": "",
            "children": [
              "IPY_MODEL_fb7a226be8df42cb80e5de18e7b56bc7",
              "IPY_MODEL_1ad344d43b2f41c282d5a7f72df6fd06",
              "IPY_MODEL_55ca7171a9e74d8d9483c5547d3683d9"
            ],
            "layout": "IPY_MODEL_a84b229f6c12479c897bfb475047c97c"
          }
        },
        "fb7a226be8df42cb80e5de18e7b56bc7": {
          "model_module": "@jupyter-widgets/controls",
          "model_name": "HTMLModel",
          "model_module_version": "1.5.0",
          "state": {
            "_dom_classes": [],
            "_model_module": "@jupyter-widgets/controls",
            "_model_module_version": "1.5.0",
            "_model_name": "HTMLModel",
            "_view_count": null,
            "_view_module": "@jupyter-widgets/controls",
            "_view_module_version": "1.5.0",
            "_view_name": "HTMLView",
            "description": "",
            "description_tooltip": null,
            "layout": "IPY_MODEL_d235c0f348f34e40a080771d7fc9692b",
            "placeholder": "​",
            "style": "IPY_MODEL_ea57c6d3517543b799eebef7b0a78520",
            "value": "Uploading Dataframe: 100.00% "
          }
        },
        "1ad344d43b2f41c282d5a7f72df6fd06": {
          "model_module": "@jupyter-widgets/controls",
          "model_name": "FloatProgressModel",
          "model_module_version": "1.5.0",
          "state": {
            "_dom_classes": [],
            "_model_module": "@jupyter-widgets/controls",
            "_model_module_version": "1.5.0",
            "_model_name": "FloatProgressModel",
            "_view_count": null,
            "_view_module": "@jupyter-widgets/controls",
            "_view_module_version": "1.5.0",
            "_view_name": "ProgressView",
            "bar_style": "success",
            "description": "",
            "description_tooltip": null,
            "layout": "IPY_MODEL_78af033af84243838219e36b2774fb40",
            "max": 94,
            "min": 0,
            "orientation": "horizontal",
            "style": "IPY_MODEL_56f27bfd9f3d4313a2b14a7360eafce0",
            "value": 94
          }
        },
        "55ca7171a9e74d8d9483c5547d3683d9": {
          "model_module": "@jupyter-widgets/controls",
          "model_name": "HTMLModel",
          "model_module_version": "1.5.0",
          "state": {
            "_dom_classes": [],
            "_model_module": "@jupyter-widgets/controls",
            "_model_module_version": "1.5.0",
            "_model_name": "HTMLModel",
            "_view_count": null,
            "_view_module": "@jupyter-widgets/controls",
            "_view_module_version": "1.5.0",
            "_view_name": "HTMLView",
            "description": "",
            "description_tooltip": null,
            "layout": "IPY_MODEL_653f22bf04fd4ffe9af47d7324284deb",
            "placeholder": "​",
            "style": "IPY_MODEL_03e6c676d88c43c3af8f26e59791b401",
            "value": " Rows 94/94 | Elapsed Time: 00:04 | Remaining Time: 00:00"
          }
        },
        "a84b229f6c12479c897bfb475047c97c": {
          "model_module": "@jupyter-widgets/base",
          "model_name": "LayoutModel",
          "model_module_version": "1.2.0",
          "state": {
            "_model_module": "@jupyter-widgets/base",
            "_model_module_version": "1.2.0",
            "_model_name": "LayoutModel",
            "_view_count": null,
            "_view_module": "@jupyter-widgets/base",
            "_view_module_version": "1.2.0",
            "_view_name": "LayoutView",
            "align_content": null,
            "align_items": null,
            "align_self": null,
            "border": null,
            "bottom": null,
            "display": null,
            "flex": null,
            "flex_flow": null,
            "grid_area": null,
            "grid_auto_columns": null,
            "grid_auto_flow": null,
            "grid_auto_rows": null,
            "grid_column": null,
            "grid_gap": null,
            "grid_row": null,
            "grid_template_areas": null,
            "grid_template_columns": null,
            "grid_template_rows": null,
            "height": null,
            "justify_content": null,
            "justify_items": null,
            "left": null,
            "margin": null,
            "max_height": null,
            "max_width": null,
            "min_height": null,
            "min_width": null,
            "object_fit": null,
            "object_position": null,
            "order": null,
            "overflow": null,
            "overflow_x": null,
            "overflow_y": null,
            "padding": null,
            "right": null,
            "top": null,
            "visibility": null,
            "width": null
          }
        },
        "d235c0f348f34e40a080771d7fc9692b": {
          "model_module": "@jupyter-widgets/base",
          "model_name": "LayoutModel",
          "model_module_version": "1.2.0",
          "state": {
            "_model_module": "@jupyter-widgets/base",
            "_model_module_version": "1.2.0",
            "_model_name": "LayoutModel",
            "_view_count": null,
            "_view_module": "@jupyter-widgets/base",
            "_view_module_version": "1.2.0",
            "_view_name": "LayoutView",
            "align_content": null,
            "align_items": null,
            "align_self": null,
            "border": null,
            "bottom": null,
            "display": null,
            "flex": null,
            "flex_flow": null,
            "grid_area": null,
            "grid_auto_columns": null,
            "grid_auto_flow": null,
            "grid_auto_rows": null,
            "grid_column": null,
            "grid_gap": null,
            "grid_row": null,
            "grid_template_areas": null,
            "grid_template_columns": null,
            "grid_template_rows": null,
            "height": null,
            "justify_content": null,
            "justify_items": null,
            "left": null,
            "margin": null,
            "max_height": null,
            "max_width": null,
            "min_height": null,
            "min_width": null,
            "object_fit": null,
            "object_position": null,
            "order": null,
            "overflow": null,
            "overflow_x": null,
            "overflow_y": null,
            "padding": null,
            "right": null,
            "top": null,
            "visibility": null,
            "width": null
          }
        },
        "ea57c6d3517543b799eebef7b0a78520": {
          "model_module": "@jupyter-widgets/controls",
          "model_name": "DescriptionStyleModel",
          "model_module_version": "1.5.0",
          "state": {
            "_model_module": "@jupyter-widgets/controls",
            "_model_module_version": "1.5.0",
            "_model_name": "DescriptionStyleModel",
            "_view_count": null,
            "_view_module": "@jupyter-widgets/base",
            "_view_module_version": "1.2.0",
            "_view_name": "StyleView",
            "description_width": ""
          }
        },
        "78af033af84243838219e36b2774fb40": {
          "model_module": "@jupyter-widgets/base",
          "model_name": "LayoutModel",
          "model_module_version": "1.2.0",
          "state": {
            "_model_module": "@jupyter-widgets/base",
            "_model_module_version": "1.2.0",
            "_model_name": "LayoutModel",
            "_view_count": null,
            "_view_module": "@jupyter-widgets/base",
            "_view_module_version": "1.2.0",
            "_view_name": "LayoutView",
            "align_content": null,
            "align_items": null,
            "align_self": null,
            "border": null,
            "bottom": null,
            "display": null,
            "flex": null,
            "flex_flow": null,
            "grid_area": null,
            "grid_auto_columns": null,
            "grid_auto_flow": null,
            "grid_auto_rows": null,
            "grid_column": null,
            "grid_gap": null,
            "grid_row": null,
            "grid_template_areas": null,
            "grid_template_columns": null,
            "grid_template_rows": null,
            "height": null,
            "justify_content": null,
            "justify_items": null,
            "left": null,
            "margin": null,
            "max_height": null,
            "max_width": null,
            "min_height": null,
            "min_width": null,
            "object_fit": null,
            "object_position": null,
            "order": null,
            "overflow": null,
            "overflow_x": null,
            "overflow_y": null,
            "padding": null,
            "right": null,
            "top": null,
            "visibility": null,
            "width": null
          }
        },
        "56f27bfd9f3d4313a2b14a7360eafce0": {
          "model_module": "@jupyter-widgets/controls",
          "model_name": "ProgressStyleModel",
          "model_module_version": "1.5.0",
          "state": {
            "_model_module": "@jupyter-widgets/controls",
            "_model_module_version": "1.5.0",
            "_model_name": "ProgressStyleModel",
            "_view_count": null,
            "_view_module": "@jupyter-widgets/base",
            "_view_module_version": "1.2.0",
            "_view_name": "StyleView",
            "bar_color": null,
            "description_width": ""
          }
        },
        "653f22bf04fd4ffe9af47d7324284deb": {
          "model_module": "@jupyter-widgets/base",
          "model_name": "LayoutModel",
          "model_module_version": "1.2.0",
          "state": {
            "_model_module": "@jupyter-widgets/base",
            "_model_module_version": "1.2.0",
            "_model_name": "LayoutModel",
            "_view_count": null,
            "_view_module": "@jupyter-widgets/base",
            "_view_module_version": "1.2.0",
            "_view_name": "LayoutView",
            "align_content": null,
            "align_items": null,
            "align_self": null,
            "border": null,
            "bottom": null,
            "display": null,
            "flex": null,
            "flex_flow": null,
            "grid_area": null,
            "grid_auto_columns": null,
            "grid_auto_flow": null,
            "grid_auto_rows": null,
            "grid_column": null,
            "grid_gap": null,
            "grid_row": null,
            "grid_template_areas": null,
            "grid_template_columns": null,
            "grid_template_rows": null,
            "height": null,
            "justify_content": null,
            "justify_items": null,
            "left": null,
            "margin": null,
            "max_height": null,
            "max_width": null,
            "min_height": null,
            "min_width": null,
            "object_fit": null,
            "object_position": null,
            "order": null,
            "overflow": null,
            "overflow_x": null,
            "overflow_y": null,
            "padding": null,
            "right": null,
            "top": null,
            "visibility": null,
            "width": null
          }
        },
        "03e6c676d88c43c3af8f26e59791b401": {
          "model_module": "@jupyter-widgets/controls",
          "model_name": "DescriptionStyleModel",
          "model_module_version": "1.5.0",
          "state": {
            "_model_module": "@jupyter-widgets/controls",
            "_model_module_version": "1.5.0",
            "_model_name": "DescriptionStyleModel",
            "_view_count": null,
            "_view_module": "@jupyter-widgets/base",
            "_view_module_version": "1.2.0",
            "_view_name": "StyleView",
            "description_width": ""
          }
        }
      }
    }
  },
  "nbformat": 4,
  "nbformat_minor": 0
}